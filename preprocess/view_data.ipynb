{
 "cells": [
  {
   "cell_type": "markdown",
   "id": "7ce950a9",
   "metadata": {},
   "source": [
    "## Viewing original dataset"
   ]
  },
  {
   "cell_type": "code",
   "execution_count": 1,
   "id": "a9034569",
   "metadata": {},
   "outputs": [],
   "source": [
    "import datasets\n",
    "import json"
   ]
  },
  {
   "cell_type": "code",
   "execution_count": 5,
   "id": "560f34b5",
   "metadata": {},
   "outputs": [],
   "source": [
    "with open('v2/train.json') as f:\n",
    "    data = json.load(f)"
   ]
  },
  {
   "cell_type": "code",
   "execution_count": 61,
   "id": "e0e91a5a",
   "metadata": {
    "scrolled": true
   },
   "outputs": [
    {
     "name": "stdout",
     "output_type": "stream",
     "text": [
      "The chosen picture is 'person_truck/COCO_train2014_000000258505.jpg'\n",
      "\n",
      "20 games involving this picture\n",
      "The chosen game is '2389'\n",
      "\n",
      "data[person_truck/COCO_train2014_000000258505.jpg][2389] is <class 'list'>\n",
      "3 elements in data[person_truck/COCO_train2014_000000258505.jpg][2389]\n",
      "\n",
      "38 keys in data[person_truck/COCO_train2014_000000258505.jpg][2389][0]\n",
      "['Game_ID', 'Round_Nr', 'Message_Nr', 'Message_Speaker', 'Message_Type', 'Message_Text', 'Round_Common', 'Round_Images_A', 'Round_Images_B', 'Game_Domain_ID', 'Game_Domain_1', 'Game_Domain_2', 'Feedback_A', 'Feedback_B', 'Agent_1', 'Agent_2', 'Round_Highlighted_A', 'Round_Highlighted_B', 'Message_Timestamp', 'Message_Turn', 'Message_Agent_ID', 'Game Duration', 'N_Messages_In_Round', 'Round Duration', 'Total_Game_Score', 'Game_Scores', 'Round_Scores', 'Total_Round_Score', 'In_Segment', 'Reason', 'Tokens', 'score', 'Discriminative_Features', 'All_features', 'Precision_Score', 'Recall_Score', 'F1_Score', 'Meteor_Score']\n",
      "\n",
      "Game_ID : 2389\n",
      "Round_Nr : 1\n",
      "Message_Nr : 6\n",
      "Message_Speaker : A\n",
      "Message_Type : text\n",
      "Message_Text : kids playing soccer in green jerseys?\n",
      "Round_Common : ['person_truck/COCO_train2014_000000258505.jpg', 'person_truck/COCO_train2014_000000265781.jpg', 'person_truck/COCO_train2014_000000418229.jpg', 'person_truck/COCO_train2014_000000190016.jpg']\n",
      "Round_Images_A : ['person_truck/COCO_train2014_000000418229.jpg', 'person_truck/COCO_train2014_000000227003.jpg', 'person_truck/COCO_train2014_000000265781.jpg', 'person_truck/COCO_train2014_000000258505.jpg', 'person_truck/COCO_train2014_000000032674.jpg', 'person_truck/COCO_train2014_000000190016.jpg']\n",
      "Round_Images_B : ['person_truck/COCO_train2014_000000185945.jpg', 'person_truck/COCO_train2014_000000265781.jpg', 'person_truck/COCO_train2014_000000237372.jpg', 'person_truck/COCO_train2014_000000418229.jpg', 'person_truck/COCO_train2014_000000190016.jpg', 'person_truck/COCO_train2014_000000258505.jpg']\n",
      "Game_Domain_ID : 28\n",
      "Game_Domain_1 : person\n",
      "Game_Domain_2 : truck\n",
      "Feedback_A : col:5<&>partner_u:5<&>self_u:5<&>text:\n",
      "Feedback_B : col:4<&>partner_u:4<&>self_u:4<&>text:\n",
      "Agent_1 : 78\n",
      "Agent_2 : 79\n",
      "Round_Highlighted_A : [True, True, False, True, False, False]\n",
      "Round_Highlighted_B : [False, False, True, True, False, True]\n",
      "Message_Timestamp : 1900-01-01 00:00:48.752617\n",
      "Message_Turn : 5\n",
      "Message_Agent_ID : 78\n",
      "Game Duration : 0:09:38.264305\n",
      "N_Messages_In_Round : 11\n",
      "Round Duration : 0:01:39.407989\n",
      "Total_Game_Score : 28\n",
      "Game_Scores : {'A': 15, 'B': 13}\n",
      "Round_Scores : {'A': 3, 'B': 3}\n",
      "Total_Round_Score : 6\n",
      "In_Segment : True\n",
      "Reason : <com>\n",
      "Tokens : ['kids', 'playing', 'soccer', 'in', 'green', 'jerseys']\n",
      "score : 0.6176900615294775\n",
      "Discriminative_Features : set()\n",
      "All_features : set()\n",
      "Precision_Score : 0.6176900615294775\n",
      "Recall_Score : 0.6198831487033102\n",
      "F1_Score : 0.6186205157089427\n",
      "Meteor_Score : 0.0\n"
     ]
    }
   ],
   "source": [
    "## print(f'{len(data)} pictures')\n",
    "key0 = list(data.keys())[0] # -> Picture name\n",
    "print(f\"The chosen picture is '{key0}'\")\n",
    "print('')\n",
    "\n",
    "val0 = data[key0]\n",
    "print(f'{len(val0)} games involving this picture')\n",
    "key00 = list(val0.keys())[0] # Game ID ranging from 0 to 2501\n",
    "print(f\"The chosen game is '{key00}'\")\n",
    "print('')\n",
    "\n",
    "val00 = val0[key00]\n",
    "print(f'data[{key0}][{key00}] is {type(val00)}')\n",
    "print(f'{len(val00)} elements in data[{key0}][{key00}]')\n",
    "print('')\n",
    "\n",
    "val000 = val00[0]\n",
    "print(f'{len(val000)} keys in data[{key0}][{key00}][0]')\n",
    "print(list(val000))\n",
    "print('')\n",
    "\n",
    "for key in val000:\n",
    "    print(f'{key} : {val000[key]}')"
   ]
  },
  {
   "cell_type": "code",
   "execution_count": 73,
   "id": "523fe898",
   "metadata": {
    "scrolled": false
   },
   "outputs": [
    {
     "name": "stdout",
     "output_type": "stream",
     "text": [
      "6 A\n",
      "11 B\n",
      "0 B\n",
      "4 A\n"
     ]
    }
   ],
   "source": [
    "for pic in data:\n",
    "    for game in data[pic]:\n",
    "        for msg in data[pic][game]:\n",
    "#             if msg['Game_ID'] == 2389 and msg['Round_Nr'] == 1:\n",
    "#                 print(msg['Message_Nr'], msg['Message_Speaker'])\n",
    "            if msg['Game_ID'] == 2389 and "
   ]
  },
  {
   "cell_type": "markdown",
   "id": "9498f484",
   "metadata": {},
   "source": [
    "## Viewing dialogue segmentations"
   ]
  },
  {
   "cell_type": "code",
   "execution_count": 8,
   "id": "6fb21452",
   "metadata": {},
   "outputs": [],
   "source": [
    "from datasets import load_dataset\n",
    "import pandas as pd\n",
    "import pickle\n",
    "import sys\n",
    "from processor import Log"
   ]
  },
  {
   "cell_type": "code",
   "execution_count": 127,
   "id": "e5c1f652",
   "metadata": {},
   "outputs": [
    {
     "name": "stdout",
     "output_type": "stream",
     "text": [
      "Loading logs from ../data/logs/\n",
      "Complete. Loaded 2502 completed game logs.\n",
      "Development set contains 62 games\n",
      "Validation set contains 377 games\n",
      "Test set contains 374 games\n",
      "Train set contains 1689 games\n",
      "Got 9614 out of 12510 rounds without mistake (total_score == 6)\n",
      "Done.\n"
     ]
    }
   ],
   "source": [
    "!python dialogue_segmentation.py"
   ]
  },
  {
   "cell_type": "code",
   "execution_count": 128,
   "id": "4ac82e39",
   "metadata": {
    "scrolled": false
   },
   "outputs": [
    {
     "name": "stdout",
     "output_type": "stream",
     "text": [
      "454\n",
      "2\n",
      "Do you have 2 men, 1 holding a stop sign?\n",
      "set()\n",
      "\n",
      "no fo you have what looks to be a road being paved\n",
      "set()\n",
      "\n",
      "or sprayed with a man standing behind it\n",
      "set()\n",
      "\n",
      "yes,  I do. Do you have kids playing soccer\n",
      "{(115, '<com>', 'person_truck/COCO_train2014_000000418229.jpg')}\n",
      "\n",
      "yes in green and yellow socks\n",
      "{(524, '<com>', 'person_truck/COCO_train2014_000000418229.jpg')}\n",
      "\n",
      "yes\n",
      "{(524, '<com>', 'person_truck/COCO_train2014_000000258505.jpg'), (115, '<com>', 'person_truck/COCO_train2014_000000258505.jpg')}\n",
      "\n",
      "Do you have 2 men standing in front of a truck, 1 holding a stop sign?\n",
      "set()\n",
      "\n",
      "no but do u have a woman with a black umbrella in front of a old pickup\n",
      "{(524, '<dif>', 'person_truck/COCO_train2014_000000237372.jpg')}\n",
      "\n",
      "No I do not have that one\n",
      "{(115, '<dif>', 'person_truck/COCO_train2014_000000227003.jpg')}\n",
      "\n",
      "Any other questions?\n",
      "set()\n",
      "\n",
      "no i got my 3 thanks\n",
      "set()\n",
      "\n",
      "Thank you, me too\n",
      "set()\n",
      "\n"
     ]
    }
   ],
   "source": [
    "# list, len=3\n",
    "test_clean = pd.read_pickle('../data/test_sections.pickle')\n",
    "tc_df = pd.DataFrame(test_clean)\n",
    "tc_df = tc_df.drop(0, axis=1)\n",
    "games = tc_df[1] # -> holding many games\n",
    "rounds = games[0] # -> holding 5 rounds\n",
    "\n",
    "print(rounds[0]['gameid'])\n",
    "print(rounds[0]['roundnr'])\n",
    "for (m, s) in rounds[0]['targets']:\n",
    "    print(m.text)\n",
    "    print(s)\n",
    "    print()"
   ]
  },
  {
   "cell_type": "code",
   "execution_count": 95,
   "id": "48a33118",
   "metadata": {},
   "outputs": [
    {
     "data": {
      "text/plain": [
       "[(782, 'Do you have a man on a motorcycle next to a red sports car?'),\n",
       " (980, 'do you have a motorcycle with a man on it at the gas station?'),\n",
       " (980, 'yes I do'),\n",
       " (782, 'No I dont'),\n",
       " (980, 'do you have a red motorcycle with a cup in front of it'),\n",
       " (782, 'Yes I do.'),\n",
       " (980, 'I have no more questions do you?'),\n",
       " (782,\n",
       "  'Do you have a man on a motorcycle that has its front tire on a white line?'),\n",
       " (980, 'no i do not')]"
      ]
     },
     "execution_count": 95,
     "metadata": {},
     "output_type": "execute_result"
    }
   ],
   "source": [
    "curr = tc_df[1][0] # list, len=10\n",
    "curr = curr[9] # dict, keys=['agent_id', 'segments', 'image_set', 'clip_scores']\n",
    "curr['segments']"
   ]
  },
  {
   "cell_type": "markdown",
   "id": "6082db3a",
   "metadata": {},
   "source": [
    "## Image Features"
   ]
  },
  {
   "cell_type": "code",
   "execution_count": 25,
   "id": "a4b70856",
   "metadata": {},
   "outputs": [],
   "source": [
    "img_feats = pd.read_pickle('data/image_feats.pickle')"
   ]
  },
  {
   "cell_type": "code",
   "execution_count": 33,
   "id": "16947b85",
   "metadata": {
    "scrolled": true
   },
   "outputs": [
    {
     "data": {
      "text/plain": [
       "torch.Size([512, 16, 16])"
      ]
     },
     "execution_count": 33,
     "metadata": {},
     "output_type": "execute_result"
    }
   ],
   "source": [
    "key0 = list(img_feats.keys())[0]\n",
    "img_feats[key0].shape"
   ]
  },
  {
   "cell_type": "markdown",
   "id": "58475701",
   "metadata": {},
   "source": [
    "# Log files"
   ]
  },
  {
   "cell_type": "code",
   "execution_count": 5,
   "id": "decdc909",
   "metadata": {},
   "outputs": [],
   "source": [
    "import os\n",
    "import json"
   ]
  },
  {
   "cell_type": "code",
   "execution_count": 6,
   "id": "2394a3d2",
   "metadata": {},
   "outputs": [],
   "source": [
    "def load_logs(log_repository, data_path):\n",
    "\n",
    "    filepath = os.path.join(data_path, log_repository)\n",
    "    print(\"Loading logs from {}...\".format(filepath))\n",
    "\n",
    "    missing_counter = 0\n",
    "    file_count = 0\n",
    "    for _, _, files in os.walk(filepath):\n",
    "        file_count += len(files)\n",
    "    print(\"{} files found.\".format(file_count))\n",
    "    logs = []\n",
    "    for root, dirs, files in os.walk(filepath):\n",
    "        for file in files:\n",
    "            if file.endswith(\".json\"):\n",
    "                with open(os.path.join(root, file), 'r') as logfile:\n",
    "                    log = Log(json.load(logfile))\n",
    "                    if log.complete:\n",
    "                        logs.append(log)\n",
    "\n",
    "    print(\"DONE. Loaded {} completed game logs.\".format(len(logs)))\n",
    "    return logs"
   ]
  },
  {
   "cell_type": "code",
   "execution_count": 12,
   "id": "278dd3c5",
   "metadata": {},
   "outputs": [
    {
     "name": "stdout",
     "output_type": "stream",
     "text": [
      "Loading logs from ../data/logs...\n",
      "2502 files found.\n",
      "DONE. Loaded 2502 completed game logs.\n"
     ]
    }
   ],
   "source": [
    "data_path = \"../data\"\n",
    "logs = load_logs(\"logs\", data_path)"
   ]
  },
  {
   "cell_type": "code",
   "execution_count": 134,
   "id": "e586a9bb",
   "metadata": {
    "scrolled": false
   },
   "outputs": [
    {
     "name": "stdout",
     "output_type": "stream",
     "text": [
      "454\n",
      "2\n",
      "total score: 6\n",
      "player scores: A - 3, B - 3\n",
      "\n",
      "messages:\n",
      "\tA: Do you have 2 men, 1 holding a stop sign?\n",
      "\tB: no fo you have what looks to be a road being paved\n",
      "\tB: or sprayed with a man standing behind it (B incorrectly marked person_truck/COCO_train2014_000000418229.jpg as different)\n",
      "\tA: yes,  I do. Do you have kids playing soccer (A correctly marked person_truck/COCO_train2014_000000418229.jpg as common)\n",
      "\tB: yes in green and yellow socks (B correctly marked person_truck/COCO_train2014_000000418229.jpg as common)\n",
      "\tA: yes (B correctly marked person_truck/COCO_train2014_000000258505.jpg as common) (A correctly marked person_truck/COCO_train2014_000000258505.jpg as common)\n",
      "\tA: Do you have 2 men standing in front of a truck, 1 holding a stop sign?\n",
      "\tB: no but do u have a woman with a black umbrella in front of a old pickup (B correctly marked person_truck/COCO_train2014_000000237372.jpg as different)\n",
      "\tA: No I do not have that one (A correctly marked person_truck/COCO_train2014_000000227003.jpg as different)\n",
      "\tA: Any other questions?\n",
      "\tB: no i got my 3 thanks\n",
      "\tA: Thank you, me too\n",
      "images:\n",
      "\tA:\n",
      "\t\tperson_truck/COCO_train2014_000000418229.jpg (Common) (Marked as common)\n",
      "\t\tperson_truck/COCO_train2014_000000227003.jpg          (Marked as different)\n",
      "\t\tperson_truck/COCO_train2014_000000265781.jpg (Common)\n",
      "\t\tperson_truck/COCO_train2014_000000258505.jpg (Common) (Marked as common)\n",
      "\t\tperson_truck/COCO_train2014_000000032674.jpg         \n",
      "\t\tperson_truck/COCO_train2014_000000190016.jpg (Common)\n",
      "\tB:\n",
      "\t\tperson_truck/COCO_train2014_000000185945.jpg         \n",
      "\t\tperson_truck/COCO_train2014_000000265781.jpg (Common)\n",
      "\t\tperson_truck/COCO_train2014_000000237372.jpg          (Marked as different)\n",
      "\t\tperson_truck/COCO_train2014_000000418229.jpg (Common) (Marked as common)\n",
      "\t\tperson_truck/COCO_train2014_000000190016.jpg (Common)\n",
      "\t\tperson_truck/COCO_train2014_000000258505.jpg (Common) (Marked as common)\n"
     ]
    }
   ],
   "source": [
    "def print_round(r):\n",
    "    \n",
    "    def print_images(r, player, img_status):\n",
    "        print(f'\\t{player}:')\n",
    "        for i, image in enumerate(r.images[player]):\n",
    "            common = ' (Common)' if image in r.common else '         '\n",
    "            marked = f' (Marked as {img_status[player][i]})' if r.highlighted[player][i] else ''\n",
    "            print('\\t\\t' + image + common + marked)\n",
    "    \n",
    "    print(\"total score: {}\".format(r.total_score))        \n",
    "    print(\"player scores: A - {}, B - {}\".format(r.scores[\"A\"], r.scores[\"B\"]))\n",
    "    \n",
    "    print('\\nmessages:')\n",
    "    msg_list = []\n",
    "    img_status = {'A':[0,0,0,0,0,0], 'B':[0,0,0,0,0,0]}\n",
    "    for i, m in enumerate(r.messages):\n",
    "        if m.type == \"text\":\n",
    "            msg_list.append({'speaker': m.speaker, 'text': m.text})\n",
    "        if m.type == \"selection\":\n",
    "            speaker = m.speaker\n",
    "            img = m.text.split()[2]\n",
    "            label = \"common\" if m.text.split()[1] == \"<com>\" else \"different\"\n",
    "            correct = 'correctly' if (img in r.common and label == 'common') or (img not in r.common and label == 'different') else 'incorrectly'\n",
    "            img_status[speaker][r.images[speaker].index(img)] = label\n",
    "            if msg_list != []:\n",
    "                msg_list[-1]['text'] += f' ({speaker} {correct} marked {img} as {label})'\n",
    "\n",
    "    for d in msg_list:\n",
    "        speaker = d['speaker']\n",
    "        text = d['text']\n",
    "        print(f'\\t{speaker}: {text}')\n",
    "\n",
    "    print('images:')\n",
    "    print_images(r, 'A', img_status)\n",
    "    print_images(r, 'B', img_status)\n",
    "\n",
    "thisGame = logs[0] # Log, containing 5 rounds\n",
    "thisRound = logs[0].rounds[0]\n",
    "print(thisGame.game_id)\n",
    "print(thisRound.round_nr)\n",
    "print_round(thisRound)"
   ]
  },
  {
   "cell_type": "code",
   "execution_count": 24,
   "id": "74c3928d",
   "metadata": {},
   "outputs": [
    {
     "data": {
      "text/plain": [
       "1"
      ]
     },
     "execution_count": 24,
     "metadata": {},
     "output_type": "execute_result"
    }
   ],
   "source": [
    "thisRound.images['A'].index('person_truck/COCO_train2014_000000227003.jpg')"
   ]
  },
  {
   "cell_type": "code",
   "execution_count": 3,
   "id": "388fb941",
   "metadata": {},
   "outputs": [],
   "source": [
    "from transformers import DebertaTokenizer"
   ]
  },
  {
   "cell_type": "code",
   "execution_count": 9,
   "id": "3658a4a6",
   "metadata": {},
   "outputs": [],
   "source": [
    "def round2dict(r, tokenizer, player):\n",
    "    input_ids = []\n",
    "    token_type_ids = []\n",
    "    labels = []\n",
    "\n",
    "    images = r.images[player]\n",
    "    # 0 = undecided, 1 = common, 2 = different\n",
    "    image_status = [[0] for _ in images]\n",
    "    \n",
    "    for i, m in enumerate(r.messages):\n",
    "        if m.type == \"text\":\n",
    "            tokenized_msg =  tokenizer(m.text,padding=False,truncation=True)['input_ids']\n",
    "            input_ids.append(tokenized_msg)\n",
    "            token_type_id = 0 if m.speaker == player else 1\n",
    "            token_type_ids.append([token_type_id for _ in tokenized_msg])\n",
    "            labels.append([x * len(tokenized_msg) for x in image_status])\n",
    "\n",
    "        if m.type == \"selection\" and m.speaker == player:\n",
    "            img = m.text.split()[2]\n",
    "            img_index = images.index(img)\n",
    "            label = 1 if m.text.split()[1] == \"<com>\" else 2\n",
    "            image_status[img_index] = [label]\n",
    "\n",
    "    return {'input_ids':input_ids, 'token_type_ids':token_type_ids, 'labels':labels}"
   ]
  },
  {
   "cell_type": "code",
   "execution_count": 10,
   "id": "329e6c24",
   "metadata": {},
   "outputs": [],
   "source": [
    "tokenizer = DebertaTokenizer.from_pretrained(\"microsoft/deberta-base\")"
   ]
  },
  {
   "cell_type": "code",
   "execution_count": 13,
   "id": "c0ce3b23",
   "metadata": {
    "scrolled": false
   },
   "outputs": [
    {
     "data": {
      "text/plain": [
       "{'input_ids': [[1,\n",
       "   8275,\n",
       "   47,\n",
       "   33,\n",
       "   132,\n",
       "   604,\n",
       "   6,\n",
       "   112,\n",
       "   1826,\n",
       "   10,\n",
       "   912,\n",
       "   1203,\n",
       "   116,\n",
       "   2],\n",
       "  [1, 2362, 9565, 47, 33, 99, 1326, 7, 28, 10, 921, 145, 21100, 2],\n",
       "  [1, 368, 26998, 19, 10, 313, 2934, 639, 24, 2],\n",
       "  [1, 10932, 6, 1437, 38, 109, 4, 1832, 47, 33, 1159, 816, 4191, 2],\n",
       "  [1, 10932, 11, 2272, 8, 5718, 17753, 2],\n",
       "  [1, 10932, 2],\n",
       "  [1,\n",
       "   8275,\n",
       "   47,\n",
       "   33,\n",
       "   132,\n",
       "   604,\n",
       "   2934,\n",
       "   11,\n",
       "   760,\n",
       "   9,\n",
       "   10,\n",
       "   2484,\n",
       "   6,\n",
       "   112,\n",
       "   1826,\n",
       "   10,\n",
       "   912,\n",
       "   1203,\n",
       "   116,\n",
       "   2],\n",
       "  [1,\n",
       "   2362,\n",
       "   53,\n",
       "   109,\n",
       "   1717,\n",
       "   33,\n",
       "   10,\n",
       "   693,\n",
       "   19,\n",
       "   10,\n",
       "   909,\n",
       "   16676,\n",
       "   11,\n",
       "   760,\n",
       "   9,\n",
       "   10,\n",
       "   793,\n",
       "   8517,\n",
       "   2],\n",
       "  [1, 3084, 38, 109, 45, 33, 14, 65, 2],\n",
       "  [1, 11913, 97, 1142, 116, 2],\n",
       "  [1, 2362, 939, 300, 127, 155, 2446, 2],\n",
       "  [1, 13987, 47, 6, 162, 350, 2]],\n",
       " 'token_type_ids': [[0, 0, 0, 0, 0, 0, 0, 0, 0, 0, 0, 0, 0, 0],\n",
       "  [1, 1, 1, 1, 1, 1, 1, 1, 1, 1, 1, 1, 1, 1],\n",
       "  [1, 1, 1, 1, 1, 1, 1, 1, 1, 1],\n",
       "  [0, 0, 0, 0, 0, 0, 0, 0, 0, 0, 0, 0, 0, 0],\n",
       "  [1, 1, 1, 1, 1, 1, 1, 1],\n",
       "  [0, 0, 0],\n",
       "  [0, 0, 0, 0, 0, 0, 0, 0, 0, 0, 0, 0, 0, 0, 0, 0, 0, 0, 0, 0],\n",
       "  [1, 1, 1, 1, 1, 1, 1, 1, 1, 1, 1, 1, 1, 1, 1, 1, 1, 1, 1],\n",
       "  [0, 0, 0, 0, 0, 0, 0, 0, 0],\n",
       "  [0, 0, 0, 0, 0, 0],\n",
       "  [1, 1, 1, 1, 1, 1, 1, 1],\n",
       "  [0, 0, 0, 0, 0, 0, 0]],\n",
       " 'labels': [[[0, 0, 0, 0, 0, 0, 0, 0, 0, 0, 0, 0, 0, 0],\n",
       "   [0, 0, 0, 0, 0, 0, 0, 0, 0, 0, 0, 0, 0, 0],\n",
       "   [0, 0, 0, 0, 0, 0, 0, 0, 0, 0, 0, 0, 0, 0],\n",
       "   [0, 0, 0, 0, 0, 0, 0, 0, 0, 0, 0, 0, 0, 0],\n",
       "   [0, 0, 0, 0, 0, 0, 0, 0, 0, 0, 0, 0, 0, 0],\n",
       "   [0, 0, 0, 0, 0, 0, 0, 0, 0, 0, 0, 0, 0, 0]],\n",
       "  [[0, 0, 0, 0, 0, 0, 0, 0, 0, 0, 0, 0, 0, 0],\n",
       "   [0, 0, 0, 0, 0, 0, 0, 0, 0, 0, 0, 0, 0, 0],\n",
       "   [0, 0, 0, 0, 0, 0, 0, 0, 0, 0, 0, 0, 0, 0],\n",
       "   [0, 0, 0, 0, 0, 0, 0, 0, 0, 0, 0, 0, 0, 0],\n",
       "   [0, 0, 0, 0, 0, 0, 0, 0, 0, 0, 0, 0, 0, 0],\n",
       "   [0, 0, 0, 0, 0, 0, 0, 0, 0, 0, 0, 0, 0, 0]],\n",
       "  [[0, 0, 0, 0, 0, 0, 0, 0, 0, 0],\n",
       "   [0, 0, 0, 0, 0, 0, 0, 0, 0, 0],\n",
       "   [0, 0, 0, 0, 0, 0, 0, 0, 0, 0],\n",
       "   [0, 0, 0, 0, 0, 0, 0, 0, 0, 0],\n",
       "   [0, 0, 0, 0, 0, 0, 0, 0, 0, 0],\n",
       "   [0, 0, 0, 0, 0, 0, 0, 0, 0, 0]],\n",
       "  [[0, 0, 0, 0, 0, 0, 0, 0, 0, 0, 0, 0, 0, 0],\n",
       "   [0, 0, 0, 0, 0, 0, 0, 0, 0, 0, 0, 0, 0, 0],\n",
       "   [0, 0, 0, 0, 0, 0, 0, 0, 0, 0, 0, 0, 0, 0],\n",
       "   [0, 0, 0, 0, 0, 0, 0, 0, 0, 0, 0, 0, 0, 0],\n",
       "   [0, 0, 0, 0, 0, 0, 0, 0, 0, 0, 0, 0, 0, 0],\n",
       "   [0, 0, 0, 0, 0, 0, 0, 0, 0, 0, 0, 0, 0, 0]],\n",
       "  [[1, 1, 1, 1, 1, 1, 1, 1],\n",
       "   [0, 0, 0, 0, 0, 0, 0, 0],\n",
       "   [0, 0, 0, 0, 0, 0, 0, 0],\n",
       "   [0, 0, 0, 0, 0, 0, 0, 0],\n",
       "   [0, 0, 0, 0, 0, 0, 0, 0],\n",
       "   [0, 0, 0, 0, 0, 0, 0, 0]],\n",
       "  [[1, 1, 1], [0, 0, 0], [0, 0, 0], [0, 0, 0], [0, 0, 0], [0, 0, 0]],\n",
       "  [[1, 1, 1, 1, 1, 1, 1, 1, 1, 1, 1, 1, 1, 1, 1, 1, 1, 1, 1, 1],\n",
       "   [0, 0, 0, 0, 0, 0, 0, 0, 0, 0, 0, 0, 0, 0, 0, 0, 0, 0, 0, 0],\n",
       "   [0, 0, 0, 0, 0, 0, 0, 0, 0, 0, 0, 0, 0, 0, 0, 0, 0, 0, 0, 0],\n",
       "   [1, 1, 1, 1, 1, 1, 1, 1, 1, 1, 1, 1, 1, 1, 1, 1, 1, 1, 1, 1],\n",
       "   [0, 0, 0, 0, 0, 0, 0, 0, 0, 0, 0, 0, 0, 0, 0, 0, 0, 0, 0, 0],\n",
       "   [0, 0, 0, 0, 0, 0, 0, 0, 0, 0, 0, 0, 0, 0, 0, 0, 0, 0, 0, 0]],\n",
       "  [[1, 1, 1, 1, 1, 1, 1, 1, 1, 1, 1, 1, 1, 1, 1, 1, 1, 1, 1],\n",
       "   [0, 0, 0, 0, 0, 0, 0, 0, 0, 0, 0, 0, 0, 0, 0, 0, 0, 0, 0],\n",
       "   [0, 0, 0, 0, 0, 0, 0, 0, 0, 0, 0, 0, 0, 0, 0, 0, 0, 0, 0],\n",
       "   [1, 1, 1, 1, 1, 1, 1, 1, 1, 1, 1, 1, 1, 1, 1, 1, 1, 1, 1],\n",
       "   [0, 0, 0, 0, 0, 0, 0, 0, 0, 0, 0, 0, 0, 0, 0, 0, 0, 0, 0],\n",
       "   [0, 0, 0, 0, 0, 0, 0, 0, 0, 0, 0, 0, 0, 0, 0, 0, 0, 0, 0]],\n",
       "  [[1, 1, 1, 1, 1, 1, 1, 1, 1],\n",
       "   [0, 0, 0, 0, 0, 0, 0, 0, 0],\n",
       "   [0, 0, 0, 0, 0, 0, 0, 0, 0],\n",
       "   [1, 1, 1, 1, 1, 1, 1, 1, 1],\n",
       "   [0, 0, 0, 0, 0, 0, 0, 0, 0],\n",
       "   [0, 0, 0, 0, 0, 0, 0, 0, 0]],\n",
       "  [[1, 1, 1, 1, 1, 1],\n",
       "   [2, 2, 2, 2, 2, 2],\n",
       "   [0, 0, 0, 0, 0, 0],\n",
       "   [1, 1, 1, 1, 1, 1],\n",
       "   [0, 0, 0, 0, 0, 0],\n",
       "   [0, 0, 0, 0, 0, 0]],\n",
       "  [[1, 1, 1, 1, 1, 1, 1, 1],\n",
       "   [2, 2, 2, 2, 2, 2, 2, 2],\n",
       "   [0, 0, 0, 0, 0, 0, 0, 0],\n",
       "   [1, 1, 1, 1, 1, 1, 1, 1],\n",
       "   [0, 0, 0, 0, 0, 0, 0, 0],\n",
       "   [0, 0, 0, 0, 0, 0, 0, 0]],\n",
       "  [[1, 1, 1, 1, 1, 1, 1],\n",
       "   [2, 2, 2, 2, 2, 2, 2],\n",
       "   [0, 0, 0, 0, 0, 0, 0],\n",
       "   [1, 1, 1, 1, 1, 1, 1],\n",
       "   [0, 0, 0, 0, 0, 0, 0],\n",
       "   [0, 0, 0, 0, 0, 0, 0]]]}"
      ]
     },
     "execution_count": 13,
     "metadata": {},
     "output_type": "execute_result"
    }
   ],
   "source": [
    "thisGame = logs[0] # Log, containing 5 rounds\n",
    "thisRound = logs[0].rounds[0]\n",
    "\n",
    "result = round2dict(thisRound, tokenizer, 'A')\n",
    "\n",
    "result"
   ]
  },
  {
   "cell_type": "markdown",
   "id": "3ba1c541",
   "metadata": {},
   "source": [
    "## Print transcript"
   ]
  },
  {
   "cell_type": "code",
   "execution_count": 135,
   "id": "7c889bfc",
   "metadata": {
    "scrolled": false
   },
   "outputs": [
    {
     "name": "stdout",
     "output_type": "stream",
     "text": [
      "Game ID: 454\n",
      "Domain ID: 28\n",
      "Image set main objects: 'person' and 'truck'\n",
      "Participant IDs: 115 and 524\n",
      "Start Time: 2018-04-25T04:26:01.775437\n",
      "Duration: 0:20:18.146128\n",
      "Total Score: 30\n",
      "Player scores: A - 15, B - 15\n",
      "Transcript:\n",
      "\n",
      "Round 2\n",
      "[00:00] A: Do you have 2 men, 1 holding a stop sign?\n",
      "[00:25] B: no fo you have what looks to be a road being paved\n",
      "[00:41] B: or sprayed with a man standing behind it\n",
      "[01:05] B marks image 418229 as different\n",
      "[01:11] A: yes,  I do. Do you have kids playing soccer\n",
      "[01:14] A marks image 418229 as common\n",
      "[01:25] B: yes in green and yellow socks\n",
      "[01:30] B marks image 418229 as common\n",
      "[01:32] A: yes\n",
      "[01:33] B marks image 258505 as common\n",
      "[01:39] A marks image 258505 as common\n",
      "[01:59] A: Do you have 2 men standing in front of a truck, 1 holding a stop sign?\n",
      "[02:19] B: no but do u have a woman with a black umbrella in front of a old pickup\n",
      "[02:26] B marks image 237372 as different\n",
      "[02:38] A: No I do not have that one\n",
      "[02:40] A marks image 227003 as different\n",
      "[03:05] A: Any other questions?\n",
      "[03:23] B: no i got my 3 thanks\n",
      "[03:32] A: Thank you, me too\n",
      "\n",
      "Duration: 0:03:15.815282\n",
      "Total Score: 6\n",
      "Player scores: A - 3, B - 3\n",
      "Number of messages: 12\n",
      "\n",
      "Round 3\n",
      "[04:05] A: Do you have a girl in front of a car with an umbrella?\n",
      "[04:23] B: yes i got her again \n",
      "[04:27] A marks image 237372 as common\n",
      "[04:29] B: did u get the kids with soccer again?\n",
      "[04:32] B marks image 237372 as common\n",
      "[04:34] B marks image 258505 as different\n",
      "[04:36] A: Cool, yes I have them again too\n",
      "[04:39] A marks image 258505 as common\n",
      "[04:41] B marks image 258505 as common\n",
      "[05:00] A: How about the truck spraying the pavement again?\n",
      "[05:19] B: no instead i got a military man shaking a political mans hand\n",
      "[05:29] B marks image 35995 as different\n",
      "[05:34] A: I do not have that one\n",
      "[05:35] A marks image 418229 as different\n",
      "[05:44] B: any thing we missed this round\n",
      "[05:57] A: I don't think so, on to the next round\n",
      "[06:21] A: Any more questions?\n",
      "[06:38] B: next round when your ready\n",
      "[06:46] A: I'm ready\n",
      "\n",
      "Duration: 0:02:35.290730\n",
      "Total Score: 6\n",
      "Player scores: A - 3, B - 3\n",
      "Number of messages: 12\n",
      "\n",
      "Round 4\n",
      "[07:08] A: I have the umbrella girl again do you?\n",
      "[07:21] B: no i have a girl in army green tank top this time\n",
      "[07:34] A: I do not have her\n",
      "[07:36] A marks image 237372 as different\n",
      "[07:51] B marks image 99245 as different\n",
      "[07:59] A: Do you have the 2 men in front of a truck with the stop sign?\n",
      "[08:28] B: no not yet i have men next to a pickup with sc**p in back\n",
      "[08:45] A: I have that one also\n",
      "[09:08] B: ok do you have a little boy with a baseball glove and a red truck \n",
      "[09:11] A marks image 227003 as different\n",
      "[09:11] B marks image 190016 as common\n",
      "[09:23] A: NO I do not have that one\n",
      "[09:39] A: Do you have an army guy shaking hands with a man in a suit?\n",
      "[10:02] B: not this round i got my 3 how about you\n",
      "[10:04] B marks image 185945 as different\n",
      "[10:09] A marks image 35995 as different\n",
      "[10:16] A: I have my 3\n",
      "[10:37] A: On to the next round\n",
      "\n",
      "Duration: 0:04:10.424221\n",
      "Total Score: 6\n",
      "Player scores: A - 3, B - 3\n",
      "Number of messages: 12\n",
      "\n",
      "Round 5\n",
      "[12:09] B: did you get your 2 men 1 sign picture?\n",
      "[12:23] A: yes I have that one\n",
      "[12:26] A marks image 227003 as common\n",
      "[12:37] A: Do you have the road spraying truck again?\n",
      "[12:49] B marks image 227003 as common\n",
      "[13:04] B: yes and the boy with the baseball glove\n",
      "[13:10] B marks image 418229 as common\n",
      "[13:12] B marks image 185945 as different\n",
      "[13:49] B: do u have that one yet?\n",
      "[13:53] A: Yes I have him\n",
      "[13:57] B marks image 185945 as common\n",
      "[14:00] A marks image 418229 as common\n",
      "[14:03] B: thats 3 \n",
      "[14:18] A: Do you have the men that are shaking hands in front of the truck, \n",
      "[14:51] A: THink I goofed, no baseball kid\n",
      "[15:19] B: well i cant take back selection no worries\n",
      "[15:33] A: ok, coool. I'm so sorry.  1st time\n",
      "[15:37] B: ditto\n",
      "[15:42] B: waiting on the next round\n",
      "[15:51] A: DId you have the hand shakers?\n",
      "[15:55] B: no\n",
      "[15:59] A marks image 35995 as different\n",
      "[16:07] A: ok, have my 3\n",
      "\n",
      "Duration: 0:03:50.930648\n",
      "Total Score: 6\n",
      "Player scores: A - 3, B - 3\n",
      "Number of messages: 16\n",
      "\n",
      "Round 6\n",
      "[16:21] B: hand shake again or no?\n",
      "[16:24] B marks image 35995 as different\n",
      "[16:27] A: Do you have the boy with the baseball glove?\n",
      "[16:30] A: yes to hand shake\n",
      "[16:33] A marks image 35995 as common\n",
      "[16:39] B marks image 35995 as common\n",
      "[16:47] B: no i got umbrella lady back\n",
      "[16:50] B marks image 237372 as different\n",
      "[16:58] A: I do not have her\n",
      "[17:07] B: i also got soccer boys again\n",
      "[17:09] A: 2 guys, 1 with stop sign?\n",
      "[17:11] B marks image 258505 as different\n",
      "[17:13] A: no soccer boys\n",
      "[17:17] B: no not this round\n",
      "[17:25] A marks image 185945 as different\n",
      "[17:31] A marks image 227003 as different\n",
      "[17:40] B: who else did u have\n",
      "[18:36] A: green tank lady\n",
      "[18:47] B: no shes not in yellow for me \n",
      "[18:59] A: nope\n",
      "[19:08] B: no not this round sorry\n",
      "[19:16] A: I have 3, you?\n",
      "[19:28] B: yup\n",
      "[19:35] A: ok, on to next round\n",
      "[19:44] A: guess that's it, lol\n",
      "\n",
      "Duration: 0:03:15.760722\n",
      "Total Score: 6\n",
      "Player scores: A - 3, B - 3\n",
      "Number of messages: 18\n",
      "\n"
     ]
    }
   ],
   "source": [
    "from load_logs import load_logs\n",
    "from processor import Log\n",
    "\n",
    "\n",
    "def print_transcript(log):\n",
    "    print(\"Game ID: {}\".format(log.game_id))\n",
    "    print(\"Domain ID: {}\".format(log.domain_id))\n",
    "    print(\"Image set main objects: '{}' and '{}'\".format(\n",
    "        log.domains[0], log.domains[1]))\n",
    "    print(\"Participant IDs: {} and {}\".format(\n",
    "        log.agent_ids[0], log.agent_ids[1]))\n",
    "    print(\"Start Time: {}\".format(log.start_time))\n",
    "    print(\"Duration: {}\".format(log.duration))\n",
    "    print(\"Total Score: {}\".format(log.total_score))\n",
    "    print(\n",
    "        \"Player scores: A - {}, B - {}\".format(log.scores[\"A\"], log.scores[\"B\"]))\n",
    "    print(\"Transcript:\\n\")\n",
    "\n",
    "    for round_data in log.rounds:\n",
    "        print(\"Round {}\".format(round_data.round_nr))\n",
    "        for message in round_data.messages:\n",
    "            if message.type == \"text\":\n",
    "                print(\"[{}] {}: {}\".format(Log.format_time(\n",
    "                    message.timestamp), message.speaker, message.text))\n",
    "\n",
    "            if message.type == \"selection\":\n",
    "                label = \"common\" if message.text.split()[\n",
    "                    1] == \"<com>\" else \"different\"\n",
    "                print(\"[{}] {} marks image {} as {}\".format(Log.format_time(\n",
    "                    message.timestamp), message.speaker, Log.strip_image_id(message.text.split()[2]), label))\n",
    "\n",
    "        print(\"\\nDuration: {}\".format(round_data.duration))\n",
    "        print(\"Total Score: {}\".format(round_data.total_score))\n",
    "        print(\n",
    "            \"Player scores: A - {}, B - {}\".format(round_data.scores[\"A\"], round_data.scores[\"B\"]))\n",
    "        print(\"Number of messages: {}\\n\".format(round_data.num_messages))\n",
    "\n",
    "thisGame = logs[0]  # Log, containing 5 rounds\n",
    "print_transcript(thisGame)"
   ]
  }
 ],
 "metadata": {
  "kernelspec": {
   "display_name": "Python 3 (ipykernel)",
   "language": "python",
   "name": "python3"
  },
  "language_info": {
   "codemirror_mode": {
    "name": "ipython",
    "version": 3
   },
   "file_extension": ".py",
   "mimetype": "text/x-python",
   "name": "python",
   "nbconvert_exporter": "python",
   "pygments_lexer": "ipython3",
   "version": "3.8.10"
  }
 },
 "nbformat": 4,
 "nbformat_minor": 5
}
