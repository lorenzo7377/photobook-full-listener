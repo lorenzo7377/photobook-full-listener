{
 "cells": [
  {
   "cell_type": "markdown",
   "id": "580a59c9",
   "metadata": {},
   "source": [
    "# Imports"
   ]
  },
  {
   "cell_type": "code",
   "execution_count": 9,
   "id": "d37b831a",
   "metadata": {},
   "outputs": [],
   "source": [
    "import os\n",
    "import sys\n",
    "import inspect\n",
    "import glob\n",
    "\n",
    "import torch\n",
    "from PIL import Image\n",
    "import torchvision.transforms as transforms\n",
    "\n",
    "sys.path.insert(0,'..')\n",
    "import process_section\n",
    "import clipscore\n",
    "\n",
    "from torchmetrics.multimodal import CLIPScore\n",
    "\n",
    "import time"
   ]
  },
  {
   "cell_type": "markdown",
   "id": "7b7f1ba7",
   "metadata": {},
   "source": [
    "# Existing clipscore implementation"
   ]
  },
  {
   "cell_type": "code",
   "execution_count": 35,
   "id": "f2087110",
   "metadata": {},
   "outputs": [],
   "source": [
    "# Change num_workers to 0 to account for local issue\n",
    "\n",
    "def process_images(image_dir, model, device):\n",
    "    image_paths = glob.glob(f'{image_dir}/*/*.jpg')\n",
    "\n",
    "    # a dictionary\n",
    "    image_feats_lookup = clipscore.extract_all_images(\n",
    "        image_paths, model, device, batch_size=64, num_workers=0)\n",
    "\n",
    "    return image_feats_lookup"
   ]
  },
  {
   "cell_type": "code",
   "execution_count": 36,
   "id": "678b6aae",
   "metadata": {
    "scrolled": true
   },
   "outputs": [
    {
     "name": "stderr",
     "output_type": "stream",
     "text": [
      "100%|█████████████████████████████████████████████████████████████████████████████████████████████████████████████████████████████████████████████████████████████████████████████████| 1/1 [00:01<00:00,  1.59s/it]\n"
     ]
    }
   ],
   "source": [
    "model, device = clipscore.get_clip_mdl()\n",
    "image_feats_lookup = process_images('imgdir', model, device)"
   ]
  },
  {
   "cell_type": "code",
   "execution_count": 58,
   "id": "3abb7e87",
   "metadata": {},
   "outputs": [],
   "source": [
    "def gen_clip_score(image_set, prompts, image_feats_lookup, model, device):\n",
    "    segments = [('s1', prompt) for prompt in prompts]\n",
    "    result = process_section.calc_clip(segments, image_set, image_feats_lookup, model, device, num_pics=len(image_set))\n",
    "    return {prompts[i]: {image_set[j]: result[i][j] for j in range(len(image_set))} for i in range(len(prompts))}"
   ]
  },
  {
   "cell_type": "code",
   "execution_count": 59,
   "id": "696000a3",
   "metadata": {
    "scrolled": false
   },
   "outputs": [
    {
     "name": "stderr",
     "output_type": "stream",
     "text": [
      "100%|█████████████████████████████████████████████████████████████████████████████████████████████████████████████████████████████████████████████████████████████████████████████████| 1/1 [00:08<00:00,  8.30s/it]"
     ]
    },
    {
     "name": "stdout",
     "output_type": "stream",
     "text": [
      "Result = {'This is a cat': {'./imgdir/inner/cat.jpg': 0.65607315, './imgdir/inner/ski.jpg': 0.41508007}, 'A cute animal': {'./imgdir/inner/cat.jpg': 0.634635, './imgdir/inner/ski.jpg': 0.46036527}, 'A dog': {'./imgdir/inner/cat.jpg': 0.5394762, './imgdir/inner/ski.jpg': 0.4733926}, 'An airplane': {'./imgdir/inner/cat.jpg': 0.43243903, './imgdir/inner/ski.jpg': 0.4799783}}\n",
      "Time used = 8.317385196685791\n"
     ]
    },
    {
     "name": "stderr",
     "output_type": "stream",
     "text": [
      "\n"
     ]
    }
   ],
   "source": [
    "start = time.time()\n",
    "result = gen_clip_score(['./imgdir/inner/cat.jpg', './imgdir/inner/ski.jpg'], ['This is a cat', 'A cute animal', 'A dog', 'An airplane'], image_feats_lookup, model, device)\n",
    "end = time.time()\n",
    "\n",
    "print('Result =', result)\n",
    "print('Time used =', end - start)"
   ]
  },
  {
   "cell_type": "markdown",
   "id": "c0857ce2",
   "metadata": {},
   "source": [
    "# TorchMetrics implementation"
   ]
  },
  {
   "cell_type": "code",
   "execution_count": 43,
   "id": "de1cfa7d",
   "metadata": {},
   "outputs": [],
   "source": [
    "metric = CLIPScore(model_name_or_path=\"openai/clip-vit-base-patch32\")"
   ]
  },
  {
   "cell_type": "code",
   "execution_count": 45,
   "id": "bcb093f3",
   "metadata": {},
   "outputs": [],
   "source": [
    "def img2tensor(imgname):\n",
    "    image = Image.open(imgname)\n",
    "    transform = transforms.Compose([transforms.PILToTensor()])\n",
    "    img_tensor = transform(image)\n",
    "    return img_tensor"
   ]
  },
  {
   "cell_type": "code",
   "execution_count": 77,
   "id": "ab922c42",
   "metadata": {},
   "outputs": [],
   "source": [
    "score = metric(img2tensor('./imgdir/inner/cat.jpg'), \"This is a cat\")"
   ]
  },
  {
   "cell_type": "code",
   "execution_count": 78,
   "id": "d142ec7a",
   "metadata": {},
   "outputs": [
    {
     "data": {
      "text/plain": [
       "tensor(26.6762)"
      ]
     },
     "execution_count": 78,
     "metadata": {},
     "output_type": "execute_result"
    }
   ],
   "source": [
    "score.detach()"
   ]
  }
 ],
 "metadata": {
  "kernelspec": {
   "display_name": "Python 3 (ipykernel)",
   "language": "python",
   "name": "python3"
  },
  "language_info": {
   "codemirror_mode": {
    "name": "ipython",
    "version": 3
   },
   "file_extension": ".py",
   "mimetype": "text/x-python",
   "name": "python",
   "nbconvert_exporter": "python",
   "pygments_lexer": "ipython3",
   "version": "3.8.10"
  }
 },
 "nbformat": 4,
 "nbformat_minor": 5
}
