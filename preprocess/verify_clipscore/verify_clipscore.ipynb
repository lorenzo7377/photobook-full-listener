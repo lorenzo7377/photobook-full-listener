{
 "cells": [
  {
   "cell_type": "markdown",
   "id": "580a59c9",
   "metadata": {},
   "source": [
    "# Imports"
   ]
  },
  {
   "cell_type": "code",
   "execution_count": 44,
   "id": "d37b831a",
   "metadata": {},
   "outputs": [],
   "source": [
    "import os\n",
    "import sys\n",
    "import inspect\n",
    "import glob\n",
    "\n",
    "import torch\n",
    "from PIL import Image\n",
    "import torchvision.transforms as transforms\n",
    "\n",
    "sys.path.insert(0,'..')\n",
    "import process_section\n",
    "import clipscore\n",
    "\n",
    "from torchmetrics.multimodal import CLIPScore"
   ]
  },
  {
   "cell_type": "markdown",
   "id": "7b7f1ba7",
   "metadata": {},
   "source": [
    "# Existing clipscore implementation"
   ]
  },
  {
   "cell_type": "code",
   "execution_count": 39,
   "id": "f2087110",
   "metadata": {},
   "outputs": [],
   "source": [
    "# Change num_workers to 0 to account for local issue\n",
    "\n",
    "def process_images(image_dir, model, device):\n",
    "    image_paths = glob.glob(f'{image_dir}/*/*.jpg')\n",
    "\n",
    "    # a dictionary\n",
    "    image_feats_lookup = clipscore.extract_all_images(\n",
    "        image_paths, model, device, batch_size=64, num_workers=0)\n",
    "\n",
    "    return image_feats_lookup"
   ]
  },
  {
   "cell_type": "code",
   "execution_count": 64,
   "id": "678b6aae",
   "metadata": {},
   "outputs": [
    {
     "name": "stderr",
     "output_type": "stream",
     "text": [
      "/Users/sterdam/cterdam/11711/photobook-full-listener/preprocess/verify_clipscore/../clipscore.py:136: UserWarning: CLIP runs in full float32 on CPU. Results in paper were computed on GPU, which uses float16. If you're reporting results on CPU, please note this when you report.\n",
      "  warnings.warn(\n",
      "/Users/sterdam/opt/anaconda3/envs/photobook/lib/python3.8/site-packages/torchvision/transforms/transforms.py:329: UserWarning: Argument 'interpolation' of type int is deprecated since 0.13 and will be removed in 0.15. Please use InterpolationMode enum.\n",
      "  warnings.warn(\n",
      "100%|████████████████████████████████████████████████████████████████████████████| 1/1 [00:01<00:00,  1.68s/it]\n",
      "  0%|                                                                                    | 0/1 [00:00<?, ?it/s]"
     ]
    },
    {
     "name": "stdout",
     "output_type": "stream",
     "text": [
      "huggingface/tokenizers: The current process just got forked, after parallelism has already been used. Disabling parallelism to avoid deadlocks...\n",
      "To disable this warning, you can either:\n",
      "\t- Avoid using `tokenizers` before the fork if possible\n",
      "\t- Explicitly set the environment variable TOKENIZERS_PARALLELISM=(true | false)\n",
      "huggingface/tokenizers: The current process just got forked, after parallelism has already been used. Disabling parallelism to avoid deadlocks...\n",
      "To disable this warning, you can either:\n",
      "\t- Avoid using `tokenizers` before the fork if possible\n",
      "\t- Explicitly set the environment variable TOKENIZERS_PARALLELISM=(true | false)\n",
      "huggingface/tokenizers: The current process just got forked, after parallelism has already been used. Disabling parallelism to avoid deadlocks...\n",
      "To disable this warning, you can either:\n",
      "\t- Avoid using `tokenizers` before the fork if possible\n",
      "\t- Explicitly set the environment variable TOKENIZERS_PARALLELISM=(true | false)\n",
      "huggingface/tokenizers: The current process just got forked, after parallelism has already been used. Disabling parallelism to avoid deadlocks...\n",
      "To disable this warning, you can either:\n",
      "\t- Avoid using `tokenizers` before the fork if possible\n",
      "\t- Explicitly set the environment variable TOKENIZERS_PARALLELISM=(true | false)\n",
      "huggingface/tokenizers: The current process just got forked, after parallelism has already been used. Disabling parallelism to avoid deadlocks...\n",
      "To disable this warning, you can either:\n",
      "\t- Avoid using `tokenizers` before the fork if possible\n",
      "\t- Explicitly set the environment variable TOKENIZERS_PARALLELISM=(true | false)\n",
      "huggingface/tokenizers: The current process just got forked, after parallelism has already been used. Disabling parallelism to avoid deadlocks...\n",
      "To disable this warning, you can either:\n",
      "\t- Avoid using `tokenizers` before the fork if possible\n",
      "\t- Explicitly set the environment variable TOKENIZERS_PARALLELISM=(true | false)\n",
      "huggingface/tokenizers: The current process just got forked, after parallelism has already been used. Disabling parallelism to avoid deadlocks...\n",
      "To disable this warning, you can either:\n",
      "\t- Avoid using `tokenizers` before the fork if possible\n",
      "\t- Explicitly set the environment variable TOKENIZERS_PARALLELISM=(true | false)\n",
      "huggingface/tokenizers: The current process just got forked, after parallelism has already been used. Disabling parallelism to avoid deadlocks...\n",
      "To disable this warning, you can either:\n",
      "\t- Avoid using `tokenizers` before the fork if possible\n",
      "\t- Explicitly set the environment variable TOKENIZERS_PARALLELISM=(true | false)\n"
     ]
    },
    {
     "name": "stderr",
     "output_type": "stream",
     "text": [
      "100%|████████████████████████████████████████████████████████████████████████████| 1/1 [00:13<00:00, 13.07s/it]\n",
      "/Users/sterdam/cterdam/11711/photobook-full-listener/preprocess/verify_clipscore/../clipscore.py:123: UserWarning: due to a numerical instability, new numpy normalization is slightly different than paper results. to exactly replicate paper results, please use numpy version less than 1.21, e.g., 1.20.3.\n",
      "  warnings.warn(\n"
     ]
    }
   ],
   "source": [
    "model, device = clipscore.get_clip_mdl()\n",
    "imgdir = 'imgdir'\n",
    "image_set = glob.glob(f'{imgdir}/*/*.jpg')\n",
    "image_feats_lookup = process_images(imgdir, model, device)\n",
    "segments = [('s1', 'This is a meeting'), ('s2', 'This is a python'), ('s1', 'This is Brazil'), ('s2', 'This is the Earth'), ('s1', 'This is skiing'), ('s2', 'This is a cat')]\n",
    "result = process_section.calc_clip(segments, image_set, image_feats_lookup, model, device)"
   ]
  },
  {
   "cell_type": "code",
   "execution_count": 80,
   "id": "696000a3",
   "metadata": {},
   "outputs": [
    {
     "name": "stdout",
     "output_type": "stream",
     "text": [
      "[0.64717317 0.5265468  0.5040432  0.5364773  0.4304402  0.4780367 ]\n",
      "[0.48825443 0.7448214  0.5073978  0.5759537  0.4466368  0.5158828 ]\n",
      "[0.41538388 0.53866017 0.7049305  0.5953658  0.40107253 0.45484954]\n",
      "[0.41835874 0.4693898  0.5689244  0.7584378  0.4485127  0.4531071 ]\n",
      "[0.41933477 0.41303173 0.5398673  0.52585316 0.6901908  0.394435  ]\n",
      "[0.40232822 0.48830146 0.49188823 0.54526323 0.41508007 0.65607315]\n"
     ]
    }
   ],
   "source": [
    "for x in result:\n",
    "    print(x)"
   ]
  },
  {
   "cell_type": "markdown",
   "id": "c0857ce2",
   "metadata": {},
   "source": [
    "# TorchMetrics implementation"
   ]
  },
  {
   "cell_type": "code",
   "execution_count": 43,
   "id": "de1cfa7d",
   "metadata": {},
   "outputs": [],
   "source": [
    "metric = CLIPScore(model_name_or_path=\"openai/clip-vit-base-patch32\")"
   ]
  },
  {
   "cell_type": "code",
   "execution_count": 45,
   "id": "bcb093f3",
   "metadata": {},
   "outputs": [],
   "source": [
    "def img2tensor(imgname):\n",
    "    image = Image.open(imgname)\n",
    "    transform = transforms.Compose([transforms.PILToTensor()])\n",
    "    img_tensor = transform(image)\n",
    "    return img_tensor"
   ]
  },
  {
   "cell_type": "code",
   "execution_count": 77,
   "id": "ab922c42",
   "metadata": {},
   "outputs": [],
   "source": [
    "score = metric(img2tensor('./imgdir/inner/cat.jpg'), \"This is a cat\")"
   ]
  },
  {
   "cell_type": "code",
   "execution_count": 78,
   "id": "d142ec7a",
   "metadata": {},
   "outputs": [
    {
     "data": {
      "text/plain": [
       "tensor(26.6762)"
      ]
     },
     "execution_count": 78,
     "metadata": {},
     "output_type": "execute_result"
    }
   ],
   "source": [
    "score.detach()"
   ]
  }
 ],
 "metadata": {
  "kernelspec": {
   "display_name": "Python 3 (ipykernel)",
   "language": "python",
   "name": "python3"
  },
  "language_info": {
   "codemirror_mode": {
    "name": "ipython",
    "version": 3
   },
   "file_extension": ".py",
   "mimetype": "text/x-python",
   "name": "python",
   "nbconvert_exporter": "python",
   "pygments_lexer": "ipython3",
   "version": "3.8.10"
  }
 },
 "nbformat": 4,
 "nbformat_minor": 5
}
